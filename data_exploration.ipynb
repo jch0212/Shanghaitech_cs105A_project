{
 "cells": [
  {
   "cell_type": "markdown",
   "metadata": {},
   "source": [
    "**A data science experiment using data from the KDD 2010 Educational Data Mining Challenge**\n",
    "\n",
    "The aim of this IPython Notebook is to give you a sense of the dataset.\n"
   ]
  },
  {
   "cell_type": "code",
   "execution_count": null,
   "metadata": {},
   "outputs": [],
   "source": [
    "import pandas as pd\n",
    "import numpy as np\n",
    "import matplotlib.pyplot as plt\n",
    "import sklearn\n",
    "import random"
   ]
  },
  {
   "cell_type": "code",
   "execution_count": null,
   "metadata": {},
   "outputs": [],
   "source": [
    "# Get the data:\n",
    "train_filepath = 'data/train.csv'\n",
    "traindata = pd.read_table(train_filepath)"
   ]
  },
  {
   "cell_type": "code",
   "execution_count": null,
   "metadata": {},
   "outputs": [],
   "source": [
    "traindata.columns"
   ]
  },
  {
   "cell_type": "code",
   "execution_count": null,
   "metadata": {},
   "outputs": [],
   "source": [
    "# Inspect some of the training data\n",
    "traindata.head()"
   ]
  },
  {
   "cell_type": "code",
   "execution_count": null,
   "metadata": {},
   "outputs": [],
   "source": [
    "traindata['Step Name']"
   ]
  },
  {
   "cell_type": "markdown",
   "metadata": {},
   "source": [
    "Let's begin asking some basic questions of the data\n",
    "\n",
    "### How many students are interacting with the system?"
   ]
  },
  {
   "cell_type": "code",
   "execution_count": null,
   "metadata": {},
   "outputs": [],
   "source": [
    "# Take the column of anonimized student IDs and count the number of unique entries\n",
    "print('Number of students: ', len(np.unique(traindata['Anon Student Id'])))"
   ]
  },
  {
   "cell_type": "markdown",
   "metadata": {},
   "source": [
    "### How long does it take a student to solve any problem step on average?"
   ]
  },
  {
   "cell_type": "code",
   "execution_count": null,
   "metadata": {},
   "outputs": [],
   "source": [
    "csd = traindata['Correct Step Duration (sec)']\n",
    "csd.describe()"
   ]
  },
  {
   "cell_type": "markdown",
   "metadata": {},
   "source": [
    "So ignoring all the students that did not solve a problem step correctly, the average duraction for any problem step was about 18 seconds.\n",
    "\n",
    "Let's histogram this data to see the distribution."
   ]
  },
  {
   "cell_type": "code",
   "execution_count": null,
   "metadata": {},
   "outputs": [],
   "source": [
    "%matplotlib inline\n",
    "hist = plt.hist(np.array(csd.dropna()),bins=100,density=True,log=False,range=(0,100))\n",
    "plt.xlabel('Time to correct answer (sec)')\n",
    "plt.ylabel('Fraction')\n",
    "plt.show()"
   ]
  },
  {
   "cell_type": "code",
   "execution_count": null,
   "metadata": {},
   "outputs": [],
   "source": [
    "counts, bins = hist[0], hist[1]\n",
    "cdf = np.cumsum(counts)\n",
    "plt.plot(bins[1::], cdf)\n",
    "plt.xlabel('Time to correct answer (sec)')\n",
    "plt.ylabel('Cumulative fraction')\n",
    "plt.axis((0,100,0,1.0))\n",
    "plt.show()"
   ]
  },
  {
   "cell_type": "markdown",
   "metadata": {},
   "source": [
    "The histogram shows visually what mere statistics hints at. The distribution of students is heavily weighted towards those who are solving problems in under 20 seconds. The cumulative distribution function (CDF) shows that roughly 80% of successful students solve the problem within 20 seconds. After 40 seconds, 90% of successful students have finished the problem. Almost no students take longer than 80 seconds."
   ]
  },
  {
   "cell_type": "markdown",
   "metadata": {},
   "source": [
    "### Completion time by problem\n",
    "\n",
    "OK, let's ask a slightly harder question: how are students doing problem by problem? The answer will take several parts.\n",
    "\n",
    "First, let's get the number of unique problems"
   ]
  },
  {
   "cell_type": "code",
   "execution_count": null,
   "metadata": {},
   "outputs": [],
   "source": [
    "# The unique identifier for each problem is the 'Problem Name'\n",
    "problems = traindata['Problem Name']"
   ]
  },
  {
   "cell_type": "code",
   "execution_count": null,
   "metadata": {},
   "outputs": [],
   "source": [
    "# Get just the uniques\n",
    "problems = np.unique(problems)\n",
    "print('Number of unique problems: ', len(problems))"
   ]
  },
  {
   "cell_type": "markdown",
   "metadata": {},
   "source": [
    "Then, let's compute which problems need the largest time on average."
   ]
  },
  {
   "cell_type": "code",
   "execution_count": null,
   "metadata": {},
   "outputs": [],
   "source": [
    "pmedian_times = {}\n",
    "for p in problems:\n",
    "    pmedian_times[p] = traindata[traindata['Problem Name'] == p]['Correct Step Duration (sec)'].median()"
   ]
  },
  {
   "cell_type": "code",
   "execution_count": null,
   "metadata": {},
   "outputs": [],
   "source": [
    "import operator"
   ]
  },
  {
   "cell_type": "code",
   "execution_count": null,
   "metadata": {},
   "outputs": [],
   "source": [
    "sorted_times = sorted(pmedian_times.items(), key=operator.itemgetter(1), reverse=True)"
   ]
  },
  {
   "cell_type": "code",
   "execution_count": null,
   "metadata": {},
   "outputs": [],
   "source": [
    "print(\"The hardest top-5 problem and its average correct duration (sec).\")\n",
    "print(sorted_times[:5])\n",
    "\n",
    "print(\"The earliest top-5 problem and its average correct duration (sec).\")\n",
    "print(sorted_times[len(sorted_times)-5:])"
   ]
  },
  {
   "cell_type": "markdown",
   "metadata": {},
   "source": [
    "Statistical results of problem difficulty"
   ]
  },
  {
   "cell_type": "code",
   "execution_count": null,
   "metadata": {},
   "outputs": [],
   "source": [
    "hist = plt.hist(np.array(list(pmedian_times.values())),bins=15,density=True,log=False,range=(0,25))\n",
    "plt.xlabel('Time to correct answer (sec)')\n",
    "plt.ylabel('Number')\n",
    "plt.show()"
   ]
  },
  {
   "cell_type": "markdown",
   "metadata": {},
   "source": [
    "If we take the time to correct answer as the difficulty of a problem, the histogram shows visually the difficulties of all the problems. "
   ]
  },
  {
   "cell_type": "markdown",
   "metadata": {},
   "source": [
    "### Conclusion\n",
    "There are many other interesting characteristic in this dataset.\n",
    "Like, \n",
    "* After some practices, students may become better at solving problems.\n",
    "* Same problem step for different students may request different knowledge components. Or for some problems, there is only one correct knowledge components\n",
    "\n",
    "These may be some things you need to take consider into for the feature engineering part. We leave them for you to explore deeper."
   ]
  },
  {
   "cell_type": "code",
   "execution_count": null,
   "metadata": {},
   "outputs": [],
   "source": []
  }
 ],
 "metadata": {
  "kernelspec": {
   "display_name": "Python 3",
   "language": "python",
   "name": "python3"
  },
  "language_info": {
   "codemirror_mode": {
    "name": "ipython",
    "version": 3
   },
   "file_extension": ".py",
   "mimetype": "text/x-python",
   "name": "python",
   "nbconvert_exporter": "python",
   "pygments_lexer": "ipython3",
   "version": "3.6.7"
  }
 },
 "nbformat": 4,
 "nbformat_minor": 1
}
